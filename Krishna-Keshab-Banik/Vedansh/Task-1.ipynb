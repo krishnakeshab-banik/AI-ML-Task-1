{
 "cells": [
  {
   "cell_type": "code",
   "execution_count": 1,
   "id": "68a715c2-a035-4c25-884e-2d744e4bc79f",
   "metadata": {},
   "outputs": [],
   "source": [
    "import pandas as pd\n",
    "import numpy as np\n",
    "import matplotlib.pyplot as plt\n",
    "import seaborn as sns\n",
    "from sklearn.model_selection import train_test_split\n",
    "from sklearn.preprocessing import StandardScaler, LabelEncoder\n",
    "from sklearn.linear_model import LinearRegression\n",
    "from sklearn.svm import SVC\n",
    "from sklearn.metrics import mean_absolute_error, mean_squared_error, accuracy_score, precision_score, recall_score, f1_score\n"
   ]
  },
  {
   "cell_type": "code",
   "execution_count": 3,
   "id": "5323cf72-7022-410b-b188-2ec5cc7ad89a",
   "metadata": {},
   "outputs": [],
   "source": [
    "# Load dataset\n",
    "df = pd.read_csv(\"nifty_500.csv\")\n"
   ]
  },
  {
   "cell_type": "code",
   "execution_count": 5,
   "id": "1fab2774-68bc-4345-9226-80ef01eec1b5",
   "metadata": {},
   "outputs": [],
   "source": [
    "# Data Cleaning\n",
    "# Remove any leading spaces in column names\n",
    "df.columns = df.columns.str.strip()\n"
   ]
  },
  {
   "cell_type": "code",
   "execution_count": 29,
   "id": "8583340a-7537-41b6-aa0f-863bb9948059",
   "metadata": {},
   "outputs": [],
   "source": [
    "# Check existing columns and convert numerical columns from string to float\n",
    "num_cols = [\"Change\", \"Percentage Change\", \"Last Traded Price\", \"Open\", \"High\", \"Low\", \"Previous Close\", \"Volume\"]\n",
    "num_cols = [col for col in num_cols if col in df.columns]\n",
    "\n",
    "for col in num_cols:\n",
    "    df[col] = df[col].astype(str).str.replace(\",\", \"\", regex=True)  # Remove commas\n",
    "    df[col] = df[col].replace([\"-\", \" \"], np.nan)  # Replace dashes and spaces with NaN\n",
    "    df[col] = pd.to_numeric(df[col], errors='coerce')  # Convert to numeric\n"
   ]
  },
  {
   "cell_type": "code",
   "execution_count": 31,
   "id": "6d76aa5c-a2de-44a4-af33-629c86eec602",
   "metadata": {},
   "outputs": [],
   "source": [
    "# Drop unnecessary columns\n",
    "drop_cols = [\"Company Name\", \"Symbol\"]\n",
    "df = df.drop(columns=[col for col in drop_cols if col in df.columns])"
   ]
  },
  {
   "cell_type": "code",
   "execution_count": 33,
   "id": "8c1d1e18-1fdb-4d12-85bd-38ff0e83a802",
   "metadata": {},
   "outputs": [],
   "source": [
    "# Encode categorical variables if they exist\n",
    "categorical_cols = [\"Industry\", \"Series\"]\n",
    "categorical_cols = [col for col in categorical_cols if col in df.columns]\n",
    "if categorical_cols:\n",
    "    df = pd.get_dummies(df, columns=categorical_cols, drop_first=True)"
   ]
  },
  {
   "cell_type": "code",
   "execution_count": 35,
   "id": "24685eda-2d4b-4722-bfdc-e0ecfb4f06ef",
   "metadata": {},
   "outputs": [],
   "source": [
    "# Handle missing values\n",
    "df.fillna(df.median(numeric_only=True), inplace=True)\n"
   ]
  },
  {
   "cell_type": "code",
   "execution_count": 39,
   "id": "5ee0d890-ad32-4119-b925-4ddc27397572",
   "metadata": {},
   "outputs": [
    {
     "name": "stdout",
     "output_type": "stream",
     "text": [
      "Warning: Non-numeric columns found after conversion: Index(['Industry_Capital Goods', 'Industry_Chemicals', 'Industry_Construction',\n",
      "       'Industry_Construction Materials', 'Industry_Consumer Durables',\n",
      "       'Industry_Consumer Services', 'Industry_Diversified',\n",
      "       'Industry_Fast Moving Consumer Goods', 'Industry_Financial Services',\n",
      "       'Industry_Forest Materials', 'Industry_Healthcare',\n",
      "       'Industry_Information Technology',\n",
      "       'Industry_Media Entertainment & Publication',\n",
      "       'Industry_Metals & Mining', 'Industry_Oil Gas & Consumable Fuels',\n",
      "       'Industry_Power', 'Industry_Realty', 'Industry_Services',\n",
      "       'Industry_Telecommunication', 'Industry_Textiles', 'Series_EQ'],\n",
      "      dtype='object')\n"
     ]
    }
   ],
   "source": [
    "# Ensure all feature columns are numeric before scaling\n",
    "for col in feature_columns:\n",
    "    df[col] = pd.to_numeric(df[col], errors='coerce')  # Convert non-numeric to NaN\n",
    "\n",
    "# Fill remaining NaNs with median to prevent errors\n",
    "df[feature_columns] = df[feature_columns].fillna(df[feature_columns].median())\n",
    "\n",
    "# Verify again if all columns are numeric\n",
    "non_numeric_cols = df[feature_columns].select_dtypes(exclude=[np.number]).columns\n",
    "if len(non_numeric_cols) > 0:\n",
    "    print(\"Warning: Non-numeric columns found after conversion:\", non_numeric_cols)\n",
    "\n",
    "# Feature Scaling (should now work correctly)\n",
    "scaled_features = scaler.fit_transform(df[feature_columns])\n"
   ]
  },
  {
   "cell_type": "code",
   "execution_count": 63,
   "id": "d0b02ea0-5e33-486b-9a4a-2d0374dc1f4e",
   "metadata": {},
   "outputs": [
    {
     "name": "stdout",
     "output_type": "stream",
     "text": [
      "Regression Metrics:\n",
      "MAE: 0.022348988817939706\n",
      "RMSE: 0.030717989050757885\n"
     ]
    }
   ],
   "source": [
    "# Feature Scaling with proper error handling\n",
    "scaler = StandardScaler()\n",
    "feature_columns = df.drop(columns=[\"Last Traded Price\", \"Percentage Change\"], errors='ignore').columns\n",
    "\n",
    "# Ensure there are no NaN values before scaling\n",
    "df[feature_columns] = df[feature_columns].fillna(0)\n",
    "\n",
    "try:\n",
    "    scaled_features = scaler.fit_transform(df[feature_columns])\n",
    "    df_scaled = pd.DataFrame(scaled_features, columns=feature_columns)\n",
    "    df_scaled[\"Last Traded Price\"] = df[\"Last Traded Price\"].astype(float).values\n",
    "    df_scaled[\"Percentage Change\"] = df[\"Percentage Change\"].astype(float).values\n",
    "except Exception as e:\n",
    "    print(\"Error in feature scaling:\", e)\n",
    "    df_scaled = None  # Prevent further errors if scaling fails\n",
    "\n",
    "# Ensure df_scaled is not None before proceeding\n",
    "if df_scaled is not None:\n",
    "    # Regression Task\n",
    "    X_reg = df_scaled.drop(columns=[\"Last Traded Price\", \"Percentage Change\"])\n",
    "    y_reg = df_scaled[\"Last Traded Price\"]\n",
    "    X_train_reg, X_test_reg, y_train_reg, y_test_reg = train_test_split(X_reg, y_reg, test_size=0.2, random_state=42)\n",
    "\n",
    "    model_reg = LinearRegression()\n",
    "    model_reg.fit(X_train_reg, y_train_reg)\n",
    "    y_pred_reg = model_reg.predict(X_test_reg)\n",
    "\n",
    "    print(\"Regression Metrics:\")\n",
    "    print(\"MAE:\", mean_absolute_error(y_test_reg, y_pred_reg))\n",
    "    print(\"RMSE:\", np.sqrt(mean_squared_error(y_test_reg, y_pred_reg)))\n",
    "\n",
    "\n",
    "   \n"
   ]
  },
  {
   "cell_type": "code",
   "execution_count": 59,
   "id": "15a4c997-54e1-4db5-9c94-010836594fec",
   "metadata": {},
   "outputs": [
    {
     "name": "stdout",
     "output_type": "stream",
     "text": [
      "Classification Metrics:\n",
      "Accuracy: 0.8613861386138614\n",
      "Precision: 0.7936507936507936\n",
      "Recall: 0.9803921568627451\n",
      "F1-score: 0.8771929824561403\n"
     ]
    }
   ],
   "source": [
    "# Classification Task\n",
    "df_scaled[\"Target\"] = (df_scaled[\"Percentage Change\"] > 0).astype(int)\n",
    "X_cls = df_scaled.drop(columns=[\"Last Traded Price\", \"Percentage Change\", \"Target\"])\n",
    "y_cls = df_scaled[\"Target\"]\n",
    "X_train_cls, X_test_cls, y_train_cls, y_test_cls = train_test_split(X_cls, y_cls, test_size=0.2, random_state=42)\n",
    "\n",
    "model_cls = SVC(kernel='linear')\n",
    "model_cls.fit(X_train_cls, y_train_cls)\n",
    "y_pred_cls = model_cls.predict(X_test_cls)\n",
    "\n",
    "print(\"Classification Metrics:\")\n",
    "print(\"Accuracy:\", accuracy_score(y_test_cls, y_pred_cls))\n",
    "print(\"Precision:\", precision_score(y_test_cls, y_pred_cls))\n",
    "print(\"Recall:\", recall_score(y_test_cls, y_pred_cls))\n",
    "print(\"F1-score:\", f1_score(y_test_cls, y_pred_cls))\n"
   ]
  },
  {
   "cell_type": "code",
   "execution_count": null,
   "id": "908c4181-7586-44bd-8347-8fad6e51a5ec",
   "metadata": {},
   "outputs": [],
   "source": []
  },
  {
   "cell_type": "code",
   "execution_count": null,
   "id": "eb435237-63ab-474f-861b-aa160d6296de",
   "metadata": {},
   "outputs": [],
   "source": []
  }
 ],
 "metadata": {
  "kernelspec": {
   "display_name": "Python 3 (ipykernel)",
   "language": "python",
   "name": "python3"
  },
  "language_info": {
   "codemirror_mode": {
    "name": "ipython",
    "version": 3
   },
   "file_extension": ".py",
   "mimetype": "text/x-python",
   "name": "python",
   "nbconvert_exporter": "python",
   "pygments_lexer": "ipython3",
   "version": "3.11.7"
  }
 },
 "nbformat": 4,
 "nbformat_minor": 5
}
